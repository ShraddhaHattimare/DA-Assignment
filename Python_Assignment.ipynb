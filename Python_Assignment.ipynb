{
 "cells": [
  {
   "cell_type": "code",
   "execution_count": 5,
   "id": "55db9328-b4d0-4884-9057-689bd61461f9",
   "metadata": {},
   "outputs": [
    {
     "data": {
      "text/plain": [
       "' \\nQ1: 1) What are the types of Applications? \\nAns: Appliction can be categorized on the base of platform are as follows\\n\\nDesktop Applications: Software designed to run on desktop or laptop computers (Windows, macOS, Linux).\\n    Examples: Microsoft Word, Adobe Photoshop, VLC Media Player.\\nMobile Applications: Apps designed for smartphones and tablets, typically distributed through app stores.\\n    Examples: Instagram, WhatsApp, Uber, Google Maps.\\nWeb Applications: Software that runs within a web browser and does not need to be installed on a device.\\n    Examples: Gmail, Google Docs, Dropbox, Trello.\\nHybrid Applications: Apps that are built to work across both web and mobile platforms, often using frameworks like React Native or Flutter.\\n    Examples: Facebook, Airbnb, Slack.\\n\\n'"
      ]
     },
     "execution_count": 5,
     "metadata": {},
     "output_type": "execute_result"
    }
   ],
   "source": [
    "\"\"\" \n",
    "Q1: 1) What are the types of Applications? \n",
    "Ans: Appliction can be categorized on the base of platform are as follows\n",
    "\n",
    "Desktop Applications: Software designed to run on desktop or laptop computers (Windows, macOS, Linux).\n",
    "    Examples: Microsoft Word, Adobe Photoshop, VLC Media Player.\n",
    "Mobile Applications: Apps designed for smartphones and tablets, typically distributed through app stores.\n",
    "    Examples: Instagram, WhatsApp, Uber, Google Maps.\n",
    "Web Applications: Software that runs within a web browser and does not need to be installed on a device.\n",
    "    Examples: Gmail, Google Docs, Dropbox, Trello.\n",
    "Hybrid Applications: Apps that are built to work across both web and mobile platforms, often using frameworks like React Native or Flutter.\n",
    "    Examples: Facebook, Airbnb, Slack.\n",
    "Cloud Applications:  Cloud applications are software that users access primarily through the internet, meaning at least some of it is managed\n",
    "    by a server and not users' local machines.    \n",
    "\n",
    "\"\"\""
   ]
  },
  {
   "cell_type": "code",
   "execution_count": 3,
   "id": "8819a950-f91e-44cd-bad9-f6d4cbb5a8aa",
   "metadata": {},
   "outputs": [
    {
     "data": {
      "text/plain": [
       "'\\nQ2: What is programing?\\n3) What is Python? \\n\\n'"
      ]
     },
     "execution_count": 3,
     "metadata": {},
     "output_type": "execute_result"
    }
   ],
   "source": [
    "\"\"\"\n",
    "Q2: What is programming?\n",
    "Ans: Programming is the process of creating instructions that a computer can follow to perform specific tasks or solve problems.\n",
    "     These instructions are written in programming languages, which are specialized languages designed to communicate with computers \n",
    "     in a way that both humans and machines can understand.\n",
    "     Example of programming language is Python, Java, C, C++, Android, iOS etc.\n",
    "\n",
    "\"\"\""
   ]
  },
  {
   "cell_type": "code",
   "execution_count": null,
   "id": "74e0ae96-0688-4afa-9945-c72835d857a9",
   "metadata": {},
   "outputs": [],
   "source": [
    "\"\"\"\n",
    "Q3: What is Python? \n",
    "Ans: Python is a high-level, interpreted programming language known for its simplicity, readability, and versatility.\n",
    "     It is one of the most popular programming languages in the world, widely used in various fields, from web development and data analysis\n",
    "     to artificial intelligence and automation. Python was created by Guido van Rossum and first released in 1991.\n",
    "\n",
    "     ->Python is easy to learn and read\n",
    "\n",
    "     ->Python comes with a large standard library that provides pre-written code for many common programming tasks such as file handling, \n",
    "     regular expressions, networking, and even web scraping.\n",
    "\"\"\""
   ]
  },
  {
   "cell_type": "code",
   "execution_count": 17,
   "id": "1157f446-636a-443d-820a-76c32aee4b40",
   "metadata": {},
   "outputs": [
    {
     "name": "stdin",
     "output_type": "stream",
     "text": [
      "Enter number: 0\n"
     ]
    },
    {
     "name": "stdout",
     "output_type": "stream",
     "text": [
      "zero\n"
     ]
    }
   ],
   "source": [
    "\"\"\"\n",
    "Q4: Write a Python program to check if a number is positive, negative or\n",
    "zero. \n",
    "\"\"\"\n",
    "num = int(input(\"Enter number:\"))\n",
    "if num < 0 :\n",
    "    print(\"negative number\")\n",
    "elif num > 0 :\n",
    "    print(\"positive number\")\n",
    "else:\n",
    "    print(\"zero\")"
   ]
  },
  {
   "cell_type": "code",
   "execution_count": 21,
   "id": "49a811d9-95fd-4db8-bf57-f1ebe72e659b",
   "metadata": {},
   "outputs": [
    {
     "name": "stdin",
     "output_type": "stream",
     "text": [
      "Enter number: 5\n"
     ]
    },
    {
     "name": "stdout",
     "output_type": "stream",
     "text": [
      "Factorial of number is: 120\n"
     ]
    }
   ],
   "source": [
    "\"\"\"\n",
    "Q5: Write a Python program to get the Factorial number of given numbers. \n",
    "\n",
    "\"\"\"\n",
    "num = int(input(\"Enter number:\"))\n",
    "factorial = 1\n",
    "while num > 0 :\n",
    "    factorial = factorial * num\n",
    "    num = num - 1\n",
    "print(\"Factorial of number is:\", factorial)\n",
    "    \n",
    "    "
   ]
  },
  {
   "cell_type": "code",
   "execution_count": 25,
   "id": "fcc4763a-8a24-47eb-be99-f0a6e3e46a2a",
   "metadata": {},
   "outputs": [
    {
     "name": "stdin",
     "output_type": "stream",
     "text": [
      "Enter range: 10\n"
     ]
    },
    {
     "name": "stdout",
     "output_type": "stream",
     "text": [
      "0 1 1 2 3 5 8 13 21 34 "
     ]
    }
   ],
   "source": [
    "\"\"\"\n",
    "Q6: Write a Python program to get the Fibonacci series of given range. \n",
    " \n",
    "\"\"\"\n",
    "num = int(input(\"Enter range:\"))\n",
    "prev2 = 0\n",
    "prev1 = 1\n",
    "print(prev2, end= \" \")\n",
    "print(prev1, end= \" \")\n",
    "\n",
    "for i in range(3, num + 1):\n",
    "    cur = prev1 + prev2\n",
    "    prev2 = prev1\n",
    "    prev1 = cur\n",
    "    print(cur, end= \" \" )\n"
   ]
  },
  {
   "cell_type": "code",
   "execution_count": null,
   "id": "fcd2a21d-7be4-4e81-b0fe-bc2c7b6a8196",
   "metadata": {},
   "outputs": [],
   "source": [
    "\"\"\"\n",
    "Q7: How memory is managed in Python? \n",
    "Ans: Python is an object-oriented programming language that dynamically allocates and frees memory. \n",
    "     Memory management in Python is done automatically, which means the developers do not have to worry about explicitly allocating and deallocating\n",
    "     memory. Python uses a private heap space for memory management, which is created when the interpreter starts up.\n",
    "    \n",
    "     In python, when we create variable and assign value to it, memory chunk is allocated to value not variable.\n",
    "     if two different variable contains same value, it means they both points to same memory location.\n",
    "     we can get memory location using \"id\" function.\n",
    "     example\n",
    "         j , k = 45, 45\n",
    "         print(\"id of j::\", id(j))\n",
    "         print(\"id of k::\", id(k))\n",
    "\n",
    "     Output:\n",
    "         id of j:: 140705719205688\n",
    "         id of k:: 140705719205688\n",
    "\n",
    "     In above example 'j' and'k' is two different variable, they both contains same value '45' \n",
    "     so when we use id function to fetch memory location of them, it returns same memory location.\n",
    "\"\"\""
   ]
  },
  {
   "cell_type": "code",
   "execution_count": null,
   "id": "d5ea4e30-0c1a-41c3-accf-50474c5e7352",
   "metadata": {},
   "outputs": [],
   "source": [
    "\"\"\"\n",
    "Q8: What is the purpose continuing statement in python?\n",
    "Ans: Continue is control statment supported by python, Continue statement continues with the next iteration of the loop. \n",
    "     Example \n",
    "     for a in range(1,11):\n",
    "       if a==5:\n",
    "           continue\n",
    "       else:\n",
    "           print(a)\n",
    "\n",
    "     Output is 1 to 11 digit except 5, if the value of variable a is 5 then we are not priniting value instead tell to skip it to next iteration       \n",
    "\"\"\""
   ]
  },
  {
   "cell_type": "code",
   "execution_count": 31,
   "id": "e0df8ca4-fa16-4080-91d7-e4e6221f8a91",
   "metadata": {},
   "outputs": [
    {
     "name": "stdout",
     "output_type": "stream",
     "text": [
      "Values before swap\n",
      "a : 10\n",
      "b : 20\n",
      "Values after swap\n",
      "a : 20\n",
      "b : 10\n",
      "Values before swap\n",
      "a : 5\n",
      "b : 10\n",
      "Values after swap\n",
      "a : 10\n",
      "b : 5\n"
     ]
    }
   ],
   "source": [
    "\"\"\"\n",
    "Q9: Write python program that swap two number with temp variable\n",
    "and without temp variable.\n",
    "Ans: \n",
    "\"\"\"\n",
    "# Method 1 : with temp variable\n",
    "a, b = 10,20\n",
    "print(\"Values before swap\")\n",
    "print(\"a :\", a)\n",
    "print(\"b :\", b)\n",
    "c = a\n",
    "a = b\n",
    "b = c\n",
    "print(\"Values after swap\")\n",
    "print(\"a :\", a)\n",
    "print(\"b :\", b)\n",
    "\n",
    "# Method 2 : without temp variable\n",
    "a, b = 5, 10\n",
    "print(\"Values before swap\")\n",
    "print(\"a :\", a)\n",
    "print(\"b :\", b)\n",
    "\n",
    "# Swapping the values using tuple unpacking\n",
    "a, b = b, a\n",
    "\n",
    "print(\"Values after swap\")\n",
    "print(\"a :\", a)\n",
    "print(\"b :\", b)\n"
   ]
  },
  {
   "cell_type": "code",
   "execution_count": 35,
   "id": "93a44ca8-d9d7-4d44-b552-c064a2b20f8c",
   "metadata": {},
   "outputs": [
    {
     "name": "stdin",
     "output_type": "stream",
     "text": [
      "Enter number: 4\n"
     ]
    },
    {
     "name": "stdout",
     "output_type": "stream",
     "text": [
      "Even number\n"
     ]
    }
   ],
   "source": [
    "\"\"\"\n",
    "Q10:  Write a Python program to find whether a given number is even\n",
    "or odd, print out an appropriate message to the user. \n",
    "\n",
    "\"\"\"\n",
    "\n",
    "num = int(input(\"Enter number:\"))\n",
    "if num % 2 == 0 :\n",
    "    print(\"Even number\")\n",
    "else :\n",
    "    print(\"Odd number\")"
   ]
  },
  {
   "cell_type": "code",
   "execution_count": 43,
   "id": "1d0f60d2-3c15-499d-87d9-0736d8787e7c",
   "metadata": {},
   "outputs": [
    {
     "name": "stdin",
     "output_type": "stream",
     "text": [
      "Enter a letter: e\n"
     ]
    },
    {
     "name": "stdout",
     "output_type": "stream",
     "text": [
      "e is vowel\n"
     ]
    }
   ],
   "source": [
    "\"\"\"\n",
    "Q11: Write a Python program to test whether a passed letter is a vowel or not\n",
    "\n",
    "\"\"\"\n",
    "letter = str(input(\"Enter a letter:\"))\n",
    "vowel = ('a','e','i','o','u')\n",
    "if letter in vowel:\n",
    "    print(f\"{letter} is vowel\")\n",
    "else:\n",
    "    print(f\"{letter} is consonent\")\n"
   ]
  },
  {
   "cell_type": "code",
   "execution_count": 49,
   "id": "c6420076-e3dd-4d7c-a952-e61abbe76b8f",
   "metadata": {},
   "outputs": [
    {
     "name": "stdin",
     "output_type": "stream",
     "text": [
      "enter number1: 3\n",
      "enter number2: 4\n",
      "enter number3: 4\n"
     ]
    },
    {
     "name": "stdout",
     "output_type": "stream",
     "text": [
      "sum of 3,4,4 is zero\n"
     ]
    }
   ],
   "source": [
    "\"\"\"\n",
    "Q12: Write a Python program to sum of three given integers. However, if\n",
    "two values are equal sum will be zero. \n",
    "\n",
    "\"\"\"\n",
    "num1 = int(input(\"enter number1:\"))\n",
    "num2 = int(input(\"enter number2:\"))\n",
    "num3 = int(input(\"enter number3:\"))\n",
    "\n",
    "if num1 == num2 or num1 == num3 or num2 == num3 :\n",
    "    print(f\"sum of {num1},{num2},{num3} is zero\")\n",
    "else:\n",
    "    print(f\"sum of {num1},{num2},{num3} is {num1+num2+num3}\")\n",
    "\n",
    "    "
   ]
  },
  {
   "cell_type": "code",
   "execution_count": 7,
   "id": "27ed0fda-d0a6-44f0-a97e-4a4be3680b06",
   "metadata": {},
   "outputs": [
    {
     "name": "stdin",
     "output_type": "stream",
     "text": [
      "Enter number 1: 8\n",
      "Enter number 2: 5\n"
     ]
    },
    {
     "name": "stdout",
     "output_type": "stream",
     "text": [
      "False\n"
     ]
    }
   ],
   "source": [
    "\"\"\"\n",
    "Q13: Write a Python program that will return true if the two given\n",
    "integer values are equal or their sum or difference is 5.\n",
    "\n",
    "\"\"\"\n",
    "num1 = int(input(\"Enter number 1:\"))\n",
    "num2 = int(input(\"Enter number 2:\"))\n",
    "\n",
    "if num1 == num2 or num1+num2 ==5 or num1- num2 == 5 :\n",
    "    print(\"true\")\n",
    "else :\n",
    "    print(\"False\")\n"
   ]
  },
  {
   "cell_type": "code",
   "execution_count": 13,
   "id": "2bb3f0f4-eab4-4af8-bb70-3b888bc39332",
   "metadata": {},
   "outputs": [
    {
     "name": "stdin",
     "output_type": "stream",
     "text": [
      "enter positive number: 8\n"
     ]
    },
    {
     "name": "stdout",
     "output_type": "stream",
     "text": [
      "sum of 8 integer number is  36\n"
     ]
    }
   ],
   "source": [
    "\"\"\"\n",
    "Q14: Write a python program to sum of the first n positive integers.\n",
    "\n",
    "\"\"\"\n",
    "n = int(input(\"enter positive number:\"))\n",
    "sum = 0\n",
    "for i in range(1, n+1):\n",
    "    sum = sum + i\n",
    "\n",
    "print(f\"sum of {n} integer number is \", sum)\n",
    "    "
   ]
  },
  {
   "cell_type": "code",
   "execution_count": 19,
   "id": "bde5f175-ef87-42da-ab97-8faff696fae7",
   "metadata": {},
   "outputs": [
    {
     "name": "stdin",
     "output_type": "stream",
     "text": [
      "Enter string: Aastha Hattimare\n"
     ]
    },
    {
     "name": "stdout",
     "output_type": "stream",
     "text": [
      "16\n"
     ]
    }
   ],
   "source": [
    "\"\"\"\n",
    "Q15: Write a Python program to calculate the length of a string.\n",
    "\"\"\"\n",
    "\n",
    "str = input(\"Enter string:\")\n",
    "print(len(str))"
   ]
  },
  {
   "cell_type": "code",
   "execution_count": 25,
   "id": "d509943e-b1dd-4157-9ea9-f2538737bc37",
   "metadata": {},
   "outputs": [
    {
     "name": "stdin",
     "output_type": "stream",
     "text": [
      "Enter string: Manishhhhh hattimare\n",
      "Enter character which you want to count: h\n"
     ]
    },
    {
     "name": "stdout",
     "output_type": "stream",
     "text": [
      "h is occure 6 times in a Manishhhhh hattimare\n"
     ]
    }
   ],
   "source": [
    "\"\"\"\n",
    "Q16: Write a Python program to count the number of characters\n",
    "(character frequency) in a string\n",
    "\"\"\"\n",
    "\n",
    "str = input(\"Enter string:\")\n",
    "char = input(\"Enter character which you want to count:\")\n",
    "print(f\"{char} is occure {str.count(char)} times in a {str}\")\n",
    "    "
   ]
  },
  {
   "cell_type": "code",
   "execution_count": null,
   "id": "e6019bd4-06d0-45fc-99d9-f7b1e1082baf",
   "metadata": {},
   "outputs": [],
   "source": [
    "\"\"\"\n",
    "Q17: What are negative indexes and why are they used?\n",
    "\n",
    "Ans: Negative indexes are used to get value from end(right side) of list or string.\n",
    "ex. lst = [20, 30, \"name\", \"age\"]\n",
    "lst[-1] will show age as result\n",
    "\"\"\"\n"
   ]
  },
  {
   "cell_type": "code",
   "execution_count": 27,
   "id": "eb49dc71-b368-4b7f-9c35-68a4e7d84144",
   "metadata": {},
   "outputs": [
    {
     "name": "stdin",
     "output_type": "stream",
     "text": [
      "Enter string: oh oh my god, you are great god, I am very thankful to you god.\n",
      "Enter substring to find: god\n"
     ]
    },
    {
     "name": "stdout",
     "output_type": "stream",
     "text": [
      "god is occured 3 times in oh oh my god, you are great god, I am very thankful to you god.\n"
     ]
    }
   ],
   "source": [
    "\"\"\"\n",
    "Q18: Write a Python program to count occurrences of a substring in a string.\n",
    "\n",
    "\"\"\"\n",
    "str = input(\"Enter string:\")\n",
    "substr = input(\"Enter substring to find:\")\n",
    "occ = str.count(substr)\n",
    "print(f\"{substr} is occured {occ} times in {str}\")"
   ]
  },
  {
   "cell_type": "code",
   "execution_count": 1,
   "id": "a0f54d51-d79e-48d6-8c25-6c37a215908a",
   "metadata": {},
   "outputs": [
    {
     "name": "stdin",
     "output_type": "stream",
     "text": [
      "Enter a sentence:  Hello, how are you, you look like fine, hello\n"
     ]
    },
    {
     "name": "stdout",
     "output_type": "stream",
     "text": [
      "Word occurrences:\n",
      "'hello': 2\n",
      "'how': 1\n",
      "'are': 1\n",
      "'you': 2\n",
      "'look': 1\n",
      "'like': 1\n",
      "'fine': 1\n"
     ]
    }
   ],
   "source": [
    "\"\"\"\n",
    "Q19: Write a Python program to count the occurrences of each word in a\n",
    "given sentence\n",
    "\n",
    "\"\"\"\n",
    "def count_word_occurrences(sentence):\n",
    "    sentence = sentence.lower()\n",
    "    words = sentence.split()\n",
    "    \n",
    "    word_count = {}\n",
    "\n",
    "    # Loop through each word in the list\n",
    "    for word in words:\n",
    "        # Remove any punctuation marks (if needed) from the word\n",
    "        word = word.strip('.,!?()[]{}:\"\\'')\n",
    "        \n",
    "        if word in word_count:\n",
    "            word_count[word] += 1\n",
    "        else:\n",
    "            word_count[word] = 1\n",
    "\n",
    "    return word_count\n",
    "\n",
    "\n",
    "sentence = input(\"Enter a sentence: \")\n",
    "\n",
    "word_count = count_word_occurrences(sentence)\n",
    "\n",
    "# Print the result\n",
    "print(\"Word occurrences:\")\n",
    "for word, count in word_count.items():\n",
    "    print(f\"'{word}': {count}\")"
   ]
  },
  {
   "cell_type": "code",
   "execution_count": 3,
   "id": "0913fdae-3b83-4d18-94ef-799374120b3e",
   "metadata": {},
   "outputs": [
    {
     "name": "stdin",
     "output_type": "stream",
     "text": [
      "Enter the first string:  shraddha\n",
      "Enter the second string:  manish\n"
     ]
    },
    {
     "name": "stdout",
     "output_type": "stream",
     "text": [
      "Result after swapping the first two characters:\n",
      "maraddha shnish\n"
     ]
    }
   ],
   "source": [
    "\"\"\"\n",
    "Q20: Write a Python program to get a single string from two given strings,\n",
    "separated by a space and swap the first two characters of each string.\n",
    "\"\"\"\n",
    "\n",
    "def swap_first_two_chars_and_concate(str1, str2):\n",
    "\n",
    "    if len(str1) < 2 or len(str2) < 2:\n",
    "        return \"Both strings must have at least two characters.\"\n",
    "    \n",
    "    # Swap the first two characters\n",
    "    new_str1 = str2[:2] + str1[2:]\n",
    "    new_str2 = str1[:2] + str2[2:]\n",
    "\n",
    "    return new_str1 + \" \" + new_str2\n",
    "\n",
    "# Input: Take two strings from the user\n",
    "str1 = input(\"Enter the first string: \")\n",
    "str2 = input(\"Enter the second string: \")\n",
    "\n",
    "# Get the result after swapping\n",
    "result = swap_first_two_chars_and_concate(str1, str2)\n",
    "\n",
    "print(\"Result after swapping the first two characters:\")\n",
    "print(result)\n",
    "\n",
    "    "
   ]
  },
  {
   "cell_type": "code",
   "execution_count": 39,
   "id": "dd4ce1f2-ab26-4fd1-8ffb-2d47cea66600",
   "metadata": {},
   "outputs": [
    {
     "name": "stdout",
     "output_type": "stream",
     "text": [
      "helpin\n",
      "helpingly\n",
      "me\n"
     ]
    }
   ],
   "source": [
    "\"\"\"\n",
    "Q21: Write a Python program to add 'in' at the end of a given string (length\n",
    "should be at least 3). If the given string already ends with 'ing' then\n",
    "add 'ly' instead if the string length of the given string is less than 3,\n",
    "leave it unchanged.\n",
    "\"\"\"\n",
    "def add_string_at_end(str):\n",
    "    if len(str) < 3 :\n",
    "       return str\n",
    "    elif str.endswith(\"ing\") :\n",
    "        return str + \"ly\"\n",
    "    else :\n",
    "        return str + \"in\"\n",
    "\n",
    "print(add_string_at_end(\"help\"))\n",
    "print(add_string_at_end(\"helping\"))\n",
    "print(add_string_at_end(\"me\"))"
   ]
  },
  {
   "cell_type": "code",
   "execution_count": 57,
   "id": "903a34af-1572-4e91-9584-532874f7a55d",
   "metadata": {},
   "outputs": [
    {
     "name": "stdout",
     "output_type": "stream",
     "text": [
      "ahos\n",
      "sohama\n"
     ]
    }
   ],
   "source": [
    "\"\"\"\n",
    "Q22: Write a Python function to reverses a string if its length is a multiple\n",
    "of 4.\n",
    "\"\"\"\n",
    "\n",
    "def reverses_string_length_multiple_of_four(str):\n",
    "    if len(str) % 4 == 0 :\n",
    "        return str[::-1]\n",
    "    else:\n",
    "        return str\n",
    "\n",
    "print(reverses_string_length_multiple_of_four(\"soha\"))\n",
    "print(reverses_string_length_multiple_of_four(\"sohama\"))"
   ]
  },
  {
   "cell_type": "code",
   "execution_count": 61,
   "id": "7a77cd47-4607-4e57-a902-671875759192",
   "metadata": {},
   "outputs": [
    {
     "name": "stdout",
     "output_type": "stream",
     "text": [
      "gorl\n",
      " \n"
     ]
    }
   ],
   "source": [
    "\"\"\"\n",
    "Q23: Write a Python program to get a string made of the first 2 and the last\n",
    "2 chars from a given a string. If the string length is less than 2, return\n",
    "instead of the empty string.\n",
    "\"\"\"\n",
    "\n",
    "def make_new_string_from_first_last_two_character(str):\n",
    "    if len(str) <= 2 :\n",
    "        return \" \"\n",
    "    else :\n",
    "        return str[:2] + str[-2:]\n",
    "\n",
    "print(make_new_string_from_first_last_two_character(\"goodgirl\"))\n",
    "print(make_new_string_from_first_last_two_character(\"go\"))\n"
   ]
  },
  {
   "cell_type": "code",
   "execution_count": 69,
   "id": "b037ae77-4149-47d7-aefd-55137c954774",
   "metadata": {},
   "outputs": [
    {
     "name": "stdout",
     "output_type": "stream",
     "text": [
      "hi how helloare you\n"
     ]
    }
   ],
   "source": [
    "\"\"\"\n",
    "Q24: Write a Python function to insert a string in the middle of a string.\n",
    "\"\"\"\n",
    "\n",
    "def insert_string_in_middle(middlestr, originalstr):\n",
    "    mindex = len(originalstr) // 2  # floor division to get nearest integer because / division gives float number.\n",
    "    return originalstr[:mindex] + middlestr + originalstr[mindex:]\n",
    "\n",
    "print(insert_string_in_middle( \"hello\", \"hi how are you\"))\n",
    "    "
   ]
  },
  {
   "cell_type": "code",
   "execution_count": 71,
   "id": "909e483d-c28b-4759-a447-13d7e710fba6",
   "metadata": {},
   "outputs": [
    {
     "name": "stdout",
     "output_type": "stream",
     "text": [
      "['age', 10, 'name', 4, 1]\n"
     ]
    }
   ],
   "source": [
    "\"\"\"\n",
    "Q25: What is List? How will you reverse a list?\n",
    "\"\"\"\n",
    "\"\"\"\n",
    "Ans: List is collection in python. It is used to store multiple values with multiple data types.\n",
    "List is ordered, indexed and mutable collection, It also except duplicate values.\n",
    "\"\"\"\n",
    "\n",
    "def reverse_list(lst):\n",
    "    return lst[::-1]\n",
    "\n",
    "\n",
    "print(reverse_list([1,4,'name', 10, 'age']))\n"
   ]
  },
  {
   "cell_type": "code",
   "execution_count": 93,
   "id": "5a4cd47e-ab4d-479d-a483-746cc9c38327",
   "metadata": {},
   "outputs": [
    {
     "name": "stdout",
     "output_type": "stream",
     "text": [
      "[1, 2, 4, 5, 6]\n"
     ]
    }
   ],
   "source": [
    "\"\"\"\n",
    "Q26: How will you remove last object from a list?\n",
    "Ans: using pop() we can remove last object from list\n",
    "\"\"\"\n",
    "def remove_last_object_from_list(lst):\n",
    "    lst.pop()\n",
    "    print(lst)\n",
    "    \n",
    "\n",
    "remove_last_object_from_list([1,2,4,5,6,7])"
   ]
  },
  {
   "cell_type": "code",
   "execution_count": 99,
   "id": "4652587d-e881-435c-926c-b71b62356610",
   "metadata": {},
   "outputs": [
    {
     "ename": "SyntaxError",
     "evalue": "invalid syntax (2515074140.py, line 8)",
     "output_type": "error",
     "traceback": [
      "\u001b[1;36m  Cell \u001b[1;32mIn[99], line 8\u001b[1;36m\u001b[0m\n\u001b[1;33m    list1 = [2, 33, 222, 14, and 25]\u001b[0m\n\u001b[1;37m                             ^\u001b[0m\n\u001b[1;31mSyntaxError\u001b[0m\u001b[1;31m:\u001b[0m invalid syntax\n"
     ]
    }
   ],
   "source": [
    "\"\"\"\n",
    "Q27: Suppose list1 is [2, 33, 222, 14, and 25], what is list1 [-\n",
    "1]?\n",
    "Ans:\n",
    "list1[-1] will show last element of list and it is and 25, it is not a string and not integer.\n",
    "so it will show error \"invalid syntax\"\n",
    "\"\"\"\n",
    "list1 = [2, 33, 222, 14, and 25]\n",
    "print(list1[-1])"
   ]
  },
  {
   "cell_type": "code",
   "execution_count": 107,
   "id": "13df772c-3d5c-459d-a0f7-00f12c7c3ead",
   "metadata": {},
   "outputs": [
    {
     "data": {
      "text/plain": [
       "'\\nQ28: Differentiate between append () and extend () methods?\\n\\nAns: append() and extend() both add element at the end of list.\\nDifference between this two methods is that ,\\n ->append() will add its argument as single element in list, for example if you append list to another list, it will add list at the end of another list.\\n     lst = [1,2,\"name\"]\\n    newlst = [\"age\", 5]\\n\\n    lst.append(newlst)\\n    print(lst)\\n\\n    output:\\n        [1, 2, \\'name\\', [\\'age\\', 5]]\\n -> while extend() will iterate over its argument and add it as member element of list.\\n for example\\n\\n    lst = [1,2,\"name\"]\\n    newlst = [\"age\", 5]\\n\\n    lst.append(newlst)\\n    print(lst)\\n\\n    lst.extend(newlst)\\n    print(lst)\\n\\nOutput:\\n        [1, 2, \\'name\\', \\'age\\', 5]\\n'"
      ]
     },
     "execution_count": 107,
     "metadata": {},
     "output_type": "execute_result"
    }
   ],
   "source": [
    "\"\"\"\n",
    "Q28: Differentiate between append () and extend () methods?\n",
    "\n",
    "Ans: append() and extend() both add element at the end of list.\n",
    "Difference between this two methods is that ,\n",
    " ->append() will add its argument as single element in list, for example if you append list to another list, it will add list at the end of another list.\n",
    "     lst = [1,2,\"name\"]\n",
    "    newlst = [\"age\", 5]\n",
    "\n",
    "    lst.append(newlst)\n",
    "    print(lst)\n",
    "\n",
    "    output:\n",
    "        [1, 2, 'name', ['age', 5]]\n",
    " -> while extend() will iterate over its argument and add it as member element of list.\n",
    " for example\n",
    "\n",
    "    lst = [1,2,\"name\"]\n",
    "    newlst = [\"age\", 5]\n",
    "\n",
    "    lst.append(newlst)\n",
    "    print(lst)\n",
    "\n",
    "    lst.extend(newlst)\n",
    "    print(lst)\n",
    "\n",
    "Output:\n",
    "        [1, 2, 'name', 'age', 5]\n",
    "\"\"\""
   ]
  },
  {
   "cell_type": "code",
   "execution_count": 113,
   "id": "8addc49c-0ae4-452e-9e46-09f3374c67f3",
   "metadata": {},
   "outputs": [
    {
     "name": "stdout",
     "output_type": "stream",
     "text": [
      "largerst number from list is: 45\n",
      "smallest number from list is: 0\n",
      "sum of all number of list is: 85\n"
     ]
    }
   ],
   "source": [
    "\"\"\"\n",
    "Q29: Write a Python function to get the largest number, smallest num\n",
    "and sum of all from a list.\n",
    "\"\"\"\n",
    "def list_operations(lst):\n",
    "    large = max(lst)\n",
    "    small = min(lst)\n",
    "\n",
    "    sum = 0\n",
    "    for h in lst:\n",
    "        sum = sum + h\n",
    "    print(f\"largerst number from list is: {large}\")    \n",
    "    print(f\"smallest number from list is: {small}\") \n",
    "    print(f\"sum of all number of list is: {sum}\") \n",
    "\n",
    "list_operations([1,2,3,4,10,45,0,20])\n",
    "        "
   ]
  },
  {
   "cell_type": "code",
   "execution_count": null,
   "id": "d6c19f0d-0a65-47d7-846d-f9b3e8b37f0e",
   "metadata": {},
   "outputs": [],
   "source": [
    "\"\"\"\n",
    "Q30: How will you compare two lists?\n",
    "\"\"\"\n",
    "# Option 1: use the equality operator == to check if two lists are identical (same elements in the same order).\n",
    "list1 = [1, 2, 3]\n",
    "list2 = [1, 2, 3]\n",
    "list3 = [3, 2, 1]\n",
    "\n",
    "print(list1 == list2)  # Output: True\n",
    "print(list1 == list3)  # Output: False\n",
    "\n",
    "# Option 2:  Check If Two Lists Contain the Same Elements (Order Doesn't Matter)\n",
    "# Use the sorted() function to sort the lists before comparison.\n",
    "\n",
    "list1 = [1, 2, 3]\n",
    "list3 = [3, 2, 1]\n",
    "\n",
    "print(sorted(list1) == sorted(list3))  # Output: True"
   ]
  },
  {
   "cell_type": "code",
   "execution_count": 123,
   "id": "000c5376-f522-4a03-b48c-f8538e1484d0",
   "metadata": {},
   "outputs": [
    {
     "name": "stdout",
     "output_type": "stream",
     "text": [
      "4 strings are(is) matched with above criteria\n"
     ]
    }
   ],
   "source": [
    "\"\"\"\n",
    "Q31: Write a Python program to count the number of strings where the string\n",
    "length is 2 or more and the first and last character are same from a given list\n",
    "of strings.\n",
    "\"\"\"\n",
    "\n",
    "def find_count_of_strings(lst) :\n",
    "    sum = 0\n",
    "    for str in lst:\n",
    "        if len(str) > 2 and str[:1] == str[len(str)-1:] :\n",
    "            sum += 1\n",
    "\n",
    "    print(f\"{sum} strings are(is) matched with above criteria\")\n",
    "\n",
    "lst = [\"a\",\"goog\",\"soham\",\"veryv\",\"good\", \"helloh\", \"hi\", \"nicen\"]\n",
    "find_count_of_strings(lst)"
   ]
  },
  {
   "cell_type": "code",
   "execution_count": 1,
   "id": "0b9552a6-b41d-4997-8329-aa56f99a7cda",
   "metadata": {},
   "outputs": [
    {
     "name": "stdout",
     "output_type": "stream",
     "text": [
      "list after removing duplicates values: [1, 2, 3, 4, 5]\n"
     ]
    }
   ],
   "source": [
    "\"\"\"\n",
    "Q32: Write a Python program to remove duplicates from a list.\n",
    "\"\"\"\n",
    "\n",
    "def remove_duplicates_from_list(input_list):\n",
    "    return list(dict.fromkeys(input_list))\n",
    "\n",
    "my_list = [1,2,3,4,3,2,1,5]\n",
    "new_list = remove_duplicates_from_list(my_list)\n",
    "print(f\"list after removing duplicates values: {new_list}\")\n"
   ]
  },
  {
   "cell_type": "code",
   "execution_count": 22,
   "id": "f5f764fa-eee6-45d3-802b-0578670b2bdc",
   "metadata": {},
   "outputs": [
    {
     "name": "stdout",
     "output_type": "stream",
     "text": [
      "[] is empty\n",
      "[1, 2, 3, 4] is not empty\n"
     ]
    }
   ],
   "source": [
    "\"\"\"\n",
    "Q33: Write a Python program to check a list is empty or not.\n",
    "\"\"\"\n",
    "\n",
    "def is_list_empty(input_list):\n",
    "    if len(input_list) == 0:\n",
    "        print(f\"{input_list} is empty\")\n",
    "    else:\n",
    "        print(f\"{input_list} is not empty\")\n",
    "\n",
    "is_list_empty([])\n",
    "is_list_empty([1,2,3,4])         "
   ]
  },
  {
   "cell_type": "code",
   "execution_count": 32,
   "id": "28d64fed-32c9-4ba1-a9c4-84fca232a961",
   "metadata": {},
   "outputs": [
    {
     "name": "stdout",
     "output_type": "stream",
     "text": [
      "True\n",
      "False\n"
     ]
    }
   ],
   "source": [
    "\"\"\"\n",
    "Q34: Write a Python function that takes two lists and returns true if they\n",
    "have at least one common member.\n",
    "\"\"\"\n",
    "\n",
    "def is_lists_has_common_member(input_list1, input_list2):\n",
    "    common_member = set(input_list1).intersection(input_list2)\n",
    "    if len(common_member) == 0:\n",
    "        return False\n",
    "    else :\n",
    "        return True\n",
    "\n",
    "print(is_lists_has_common_member([1,2,3],[3,4,5,6]))\n",
    "print(is_lists_has_common_member([1,2,3],[4,5,6,7,8,10]))"
   ]
  },
  {
   "cell_type": "code",
   "execution_count": 38,
   "id": "e993018e-3c37-4942-b98e-2ab178800442",
   "metadata": {},
   "outputs": [
    {
     "name": "stdout",
     "output_type": "stream",
     "text": [
      "First and last 5 square number between 1 and 30  is [1, 4, 9, 16, 25, 676, 729, 784, 841, 900]\n"
     ]
    }
   ],
   "source": [
    "\"\"\"\n",
    "Q35: Write a Python program to generate and print a list of first and last 5\n",
    "elements where the values are square of numbers between 1 and 30. \n",
    "\"\"\"\n",
    "\n",
    "def generate_square():\n",
    "    squares = []\n",
    "    for x in range(1,31):\n",
    "        squares.append(x**2)\n",
    "    return squares[:5] + squares[-5:]\n",
    "\n",
    "square_list = generate_square()\n",
    "print(f\"First and last 5 square number between 1 and 30  is {square_list}\")"
   ]
  },
  {
   "cell_type": "code",
   "execution_count": 46,
   "id": "02fb23b1-6bb8-44b8-b797-4773ce3e6400",
   "metadata": {},
   "outputs": [
    {
     "name": "stdout",
     "output_type": "stream",
     "text": [
      "unique list is {3, 6, 9, 10}\n"
     ]
    }
   ],
   "source": [
    "\"\"\"\n",
    "Q36: Write a Python function that takes a list and returns a new list with\n",
    "unique elements of the first list.\n",
    "\"\"\"\n",
    "\n",
    "def unique_list(input_list1, input_list2):\n",
    "    new_list = set(input_list1).difference(input_list2)\n",
    "    return new_list\n",
    "\n",
    "\n",
    "new_unique_list = unique_list([1,2,3,4,6,9,10],[1,4,5,7,8,2])\n",
    "print(f\"unique list is {new_unique_list}\")"
   ]
  },
  {
   "cell_type": "code",
   "execution_count": 60,
   "id": "9a446169-961d-42ae-8f1a-39ede39ef500",
   "metadata": {},
   "outputs": [
    {
     "name": "stdout",
     "output_type": "stream",
     "text": [
      "converted String is: abcd\n"
     ]
    }
   ],
   "source": [
    "\"\"\"\n",
    "Q37: Write a Python program to convert a list of characters into a string.\n",
    "\"\"\"\n",
    "\n",
    "def conver_list_into_string(input_list):\n",
    "    return \"\".join(input_list)\n",
    "\n",
    "result = conver_list_into_string(['a','b','c','d'])\n",
    "print(f\"converted String is: {result}\")"
   ]
  },
  {
   "cell_type": "code",
   "execution_count": 84,
   "id": "330e5704-0768-4e13-95a6-370b1a9c3687",
   "metadata": {},
   "outputs": [
    {
     "name": "stdout",
     "output_type": "stream",
     "text": [
      "Random item is:2\n"
     ]
    }
   ],
   "source": [
    "\"\"\"\n",
    "Q38: Write a Python program to select an item randomly from a list.\n",
    "\"\"\"\n",
    "\n",
    "import random\n",
    "\n",
    "def select_random_item(input_list):\n",
    "    return random.choice(input_list)\n",
    "\n",
    "result = select_random_item([1,2,3,'a','b','c'])\n",
    "print(f\"Random item is:{result}\")\n",
    "\n"
   ]
  },
  {
   "cell_type": "code",
   "execution_count": 70,
   "id": "8bef0f24-1cad-401f-8d02-b108593d2410",
   "metadata": {},
   "outputs": [
    {
     "name": "stdout",
     "output_type": "stream",
     "text": [
      "Second smallest number in a list is: 2\n",
      "Second smallest number in a list is: None\n",
      "Second smallest number in a list is: 1\n"
     ]
    }
   ],
   "source": [
    "\"\"\"\n",
    "Q39: Write a Python program to find the second smallest number in a list.\n",
    "\"\"\"\n",
    "def find_second_smallest_number_from(input_list):\n",
    "    if len(input_list) < 2:\n",
    "        return None\n",
    "    snum = min(input_list)\n",
    "    input_list.remove(snum)\n",
    "    return min(input_list)\n",
    "\n",
    "\n",
    "second_smallest_number = find_second_smallest_number_from([10,6,9,45,0,20,35,4,2,8])\n",
    "print(f\"Second smallest number in a list is: {second_smallest_number}\")\n",
    "print(f\"Second smallest number in a list is: {find_second_smallest_number_from([1])}\")\n",
    "print(f\"Second smallest number in a list is: {find_second_smallest_number_from([1,1,1])}\")\n",
    "        \n",
    "    "
   ]
  },
  {
   "cell_type": "code",
   "execution_count": 64,
   "id": "bb2f76a4-601e-4112-8e9e-b73f7629fd02",
   "metadata": {},
   "outputs": [
    {
     "name": "stdout",
     "output_type": "stream",
     "text": [
      "unique values: [1, 2, 3, 4]\n"
     ]
    }
   ],
   "source": [
    "\"\"\"\n",
    "Q40: Write a Python program to get unique values from a list\n",
    "\"\"\"\n",
    "def unique_list(input_list):\n",
    "     return list(set(input_list))\n",
    "\n",
    "\n",
    "new_unique_list = unique_list([1,2,3,4,2,3,1])\n",
    "print(f\"unique values: {new_unique_list}\")\n"
   ]
  },
  {
   "cell_type": "code",
   "execution_count": 94,
   "id": "9c07ba0a-9124-4ef2-bd08-a35e4a55efc2",
   "metadata": {},
   "outputs": [
    {
     "name": "stdout",
     "output_type": "stream",
     "text": [
      "[2, 3, 3] is sub list of [1, 2, 3, 4, 5] ? Ans: True\n",
      "[6, 7, 8] is sub list of [1, 2, 3, 4, 5] ? Ans: False\n"
     ]
    }
   ],
   "source": [
    "\"\"\"\n",
    "Q41: Write a Python program to check whether a list contains a sub list\n",
    "\"\"\"\n",
    "\n",
    "def list_contains_sublist(superlist, sublist):\n",
    "    return set(sublist).issubset(superlist)\n",
    "\n",
    "superlist = [1,2,3,4,5]\n",
    "sublist = [2,3]\n",
    "sublist1 = [6,7,8]\n",
    "result = list_contains_sublist(superlist,sublist)\n",
    "print(f\"{sublist} is sub list of {superlist} ? Ans: {result}\")\n",
    "print(f\"{sublist1} is sub list of {superlist} ? Ans: {list_contains_sublist(superlist,sublist1)}\")"
   ]
  },
  {
   "cell_type": "code",
   "execution_count": 96,
   "id": "6410ad80-5b81-4c09-bb45-63a4f00e8988",
   "metadata": {},
   "outputs": [
    {
     "name": "stdout",
     "output_type": "stream",
     "text": [
      "a= 4\n",
      "b= 5\n",
      "c= 6\n",
      "d= 7\n"
     ]
    }
   ],
   "source": [
    "\"\"\"\n",
    "Q42: Write a Python program to split a list into different variables.\n",
    "\"\"\"\n",
    "\n",
    "# unpacking the list \n",
    "# it requires variable as same as list length otherwise it will give value error.\n",
    "def split_list_into_variables(input_list):\n",
    "    a,b,c,d = input_list\n",
    "    return a, b, c, d\n",
    "\n",
    "a,b,c,d = split_list_into_variables([4,5,6,7])\n",
    "print(\"a=\",a)\n",
    "print(\"b=\",b)\n",
    "print(\"c=\",c)\n",
    "print(\"d=\",d)\n",
    "    "
   ]
  },
  {
   "cell_type": "code",
   "execution_count": null,
   "id": "bfe1fe70-8560-4a60-be7d-599b1ee55438",
   "metadata": {},
   "outputs": [],
   "source": [
    "\"\"\"\n",
    "Q43: What is tuple? Difference between list and tuple.\n",
    "\"\"\"\n",
    "\"\"\"\n",
    "Ans:\n",
    "Tuple is ordered, indexed and immutable collection in python.\n",
    "Tuple allows duplicate value.\n",
    "Tuple accept different data types.\n",
    "Tuple stores multiple values in single variable.\n",
    "\n",
    "List is mutable means we can change list after createing it. while tuple is immutable means we can't change its value once we create it.\n",
    "List can be created using square bracket [], while tuple used small bracket ().\n",
    "\"\"\""
   ]
  },
  {
   "cell_type": "code",
   "execution_count": 106,
   "id": "5e0dde53-1eca-4cc5-bf73-67cb2867f10d",
   "metadata": {},
   "outputs": [
    {
     "name": "stdout",
     "output_type": "stream",
     "text": [
      "tuple: (1, 'name', True, [10, 2])\n",
      "type of tpl is: <class 'tuple'>\n",
      "first element of tuple: 1\n",
      "second element of tuple: name\n",
      "last element of tuple: [10, 2]\n",
      "first element of last element of tuple: 10\n"
     ]
    }
   ],
   "source": [
    "\"\"\"\n",
    "Q44: Write a Python program to create a tuple with different data types.\n",
    "\"\"\"\n",
    "# create tuple with different data type\n",
    "tpl = (1,\"name\", True, [10,2])\n",
    "\n",
    "#print tuple and its data type\n",
    "print(\"tuple:\", tpl)\n",
    "print(\"type of tpl is:\", type(tpl))\n",
    "\n",
    "#access element of tuple\n",
    "print(\"first element of tuple:\", tpl[0])\n",
    "print(\"second element of tuple:\", tpl[1])\n",
    "print(\"last element of tuple:\", tpl[len(tpl)-1])\n",
    "print(\"first element of last element of tuple:\", tpl[len(tpl)-1][0])"
   ]
  },
  {
   "cell_type": "code",
   "execution_count": 122,
   "id": "cbb49e81-cb4e-45dc-827a-f4fac7eed117",
   "metadata": {},
   "outputs": [
    {
     "name": "stdout",
     "output_type": "stream",
     "text": [
      "Unzipped lists:\n",
      "List 1: (1, 2, 3)\n",
      "List 2: ('a', 'b', 'c')\n"
     ]
    }
   ],
   "source": [
    "\"\"\"\n",
    "Q45: Write a Python program to unzip a list of tuples into individual lists.\n",
    "\"\"\"\n",
    "\n",
    "def unzip_list_of_tuples(tuples_list):\n",
    "    # Use zip() to unzip the list of tuples\n",
    "    return list(zip(*tuples_list)) #* will unpack tuples\n",
    "\n",
    "# Example usage\n",
    "tuples_list = [(1, 'a'), (2, 'b'), (3, 'c')]\n",
    "unzipped = unzip_list_of_tuples(tuples_list)\n",
    "\n",
    "# Convert the result into individual lists\n",
    "list1, list2 = unzipped\n",
    "\n",
    "print(\"Unzipped lists:\")\n",
    "print(\"List 1:\", list1)  # Output: [1, 2, 3]\n",
    "print(\"List 2:\", list2)  # Output: ['a', 'b', 'c']"
   ]
  },
  {
   "cell_type": "code",
   "execution_count": 1,
   "id": "cbf5b01d-1854-41e8-ba6b-fcf40f511185",
   "metadata": {},
   "outputs": [
    {
     "name": "stdout",
     "output_type": "stream",
     "text": [
      "Dictionary from tupple\n",
      "{'name': 'python', 'age': '40', 'easy to learn': True}\n",
      "type of tupe_list: <class 'dict'>\n"
     ]
    }
   ],
   "source": [
    "\"\"\"\n",
    "Q46: Write a Python program to convert a list of tuples into a dictionary.\n",
    "\"\"\"\n",
    "\n",
    "def convert_list_of_tuple_into_dict(tuple_list):\n",
    "    dictt = dict(tuple_list)\n",
    "    return dictt\n",
    "\n",
    "tuple_list =[(\"name\",\"python\"),(\"age\",\"40\"),(\"easy to learn\",True)]\n",
    "print(\"Dictionary from tupple\")\n",
    "result_dict = convert_list_of_tuple_into_dict(tuple_list)\n",
    "print(result_dict)\n",
    "print(\"type of tupe_list:\", type(result_dict))"
   ]
  },
  {
   "cell_type": "code",
   "execution_count": 17,
   "id": "05c45865-4ac6-4169-915f-5084965167eb",
   "metadata": {},
   "outputs": [
    {
     "name": "stdout",
     "output_type": "stream",
     "text": [
      "{'name': 'python', 'age': 30, 'easy to learn': True}\n"
     ]
    }
   ],
   "source": [
    "\"\"\"\n",
    "Q47: How will you create a dictionary using tuples in python?\n",
    "\"\"\"\n",
    "dictt = dict(((\"name\",\"python\"),(\"age\",30),(\"easy to learn\",True)))\n",
    "\n",
    "print(dictt)"
   ]
  },
  {
   "cell_type": "code",
   "execution_count": 33,
   "id": "d70b92b7-3b47-450d-b020-7a181e6c165a",
   "metadata": {},
   "outputs": [
    {
     "name": "stdout",
     "output_type": "stream",
     "text": [
      "Original Dictionary: {'apple': 50, 'banana': 20, 'cherry': 30, 'date': 40}\n",
      "Sorted in Ascending Order: {'apple': 50, 'banana': 20, 'cherry': 30, 'date': 40}\n",
      "Sorted in Descending Order: {'date': 40, 'cherry': 30, 'banana': 20, 'apple': 50}\n"
     ]
    }
   ],
   "source": [
    "\"\"\"\n",
    "Q48: Write a Python script to sort (ascending and descending) a\n",
    "dictionary by value.\n",
    "\"\"\"\n",
    "\n",
    "dictt = {\"apple\": 50, \"banana\": 20, \"cherry\": 30, \"date\": 40}\n",
    "ascending_dict = dict(sorted(dictt.items(), key = lambda item : item[1]))  #1 is for value and 0 is for keys\n",
    "\n",
    "descending_dict = dict(sorted(dictt.items(), key= lambda item  : item[1], reverse= True))\n",
    "\n",
    "print(\"Original Dictionary:\", dictt)\n",
    "print(\"Sorted in Ascending Order:\", ascending_dict)\n",
    "print(\"Sorted in Descending Order:\", descending_dict)"
   ]
  },
  {
   "cell_type": "code",
   "execution_count": 37,
   "id": "78f0a040-3a6e-4031-bd7d-c87027310255",
   "metadata": {},
   "outputs": [
    {
     "name": "stdout",
     "output_type": "stream",
     "text": [
      "new dict after concate is: {'name': 'python', 'age': 30, 'apple': 30, 'orange': 100}\n"
     ]
    }
   ],
   "source": [
    "\"\"\"\n",
    "Q49: Write a Python script to concatenate following dictionaries to create\n",
    "a new one.\n",
    "\"\"\"\n",
    "dictt1 = {\"name\":\"python\", \"age\":30}\n",
    "dictt2 = {\"apple\":30,\"orange\": 100}\n",
    "\n",
    "newdict = dictt1.copy()\n",
    "for key,value in dictt2.items():\n",
    "    newdict[key] = value\n",
    "\n",
    "print(f\"new dict after concate is: {newdict}\")"
   ]
  },
  {
   "cell_type": "code",
   "execution_count": 57,
   "id": "f109cea4-d299-420e-ac67-73dd210ebaab",
   "metadata": {},
   "outputs": [
    {
     "name": "stdout",
     "output_type": "stream",
     "text": [
      "orange key is exist in {'apple': 30, 'orange': 100}: True\n",
      "banana key is exist in {'apple': 30, 'orange': 100}: False\n"
     ]
    }
   ],
   "source": [
    "\"\"\"\n",
    "Q50:  Write a Python script to check if a given key already exists in a\n",
    "dictionary.\n",
    "\"\"\"\n",
    "\n",
    "def key_is_exists_in_dict(input_dict, key_to_check):\n",
    "    if key_to_check in input_dict:\n",
    "        return True\n",
    "    else:\n",
    "        return False\n",
    "\n",
    "dictt = {\"apple\":30,\"orange\":100}\n",
    "key = \"orange\"\n",
    "print(f\"{key} key is exist in {dictt}: {key_is_exists_in_dict(dictt,key)}\")\n",
    "print(f\"banana key is exist in {dictt}: {key_is_exists_in_dict(dictt,\"banana\")}\")"
   ]
  },
  {
   "cell_type": "code",
   "execution_count": 73,
   "id": "38d82d40-61cd-4c0f-8327-5b3ef43169b6",
   "metadata": {},
   "outputs": [
    {
     "name": "stdout",
     "output_type": "stream",
     "text": [
      "Items:\n",
      "('apple', 30)\n",
      "('date', 200)\n",
      "\n",
      " Keys:\n",
      "apple\n",
      "date\n",
      "\n",
      " Values:\n",
      "30\n",
      "200\n"
     ]
    }
   ],
   "source": [
    "\"\"\"\n",
    "Q51: How Do You Traverse Through a Dictionary Object in Python?\n",
    "\"\"\"\n",
    "my_dict = {\"apple\":30, \"date\":200}\n",
    "\n",
    "print(\"Items:\")\n",
    "for item in my_dict.items():\n",
    "    print(item)\n",
    "\n",
    "print(\"\\n Keys:\")\n",
    "for key in my_dict.keys():\n",
    "    print(key)\n",
    "\n",
    "print(\"\\n Values:\")\n",
    "for value in my_dict.values():\n",
    "    print(value)"
   ]
  },
  {
   "cell_type": "code",
   "execution_count": 77,
   "id": "315e385f-b9f3-4549-b1c2-2ff8c1a33990",
   "metadata": {},
   "outputs": [
    {
     "name": "stdin",
     "output_type": "stream",
     "text": [
      "enter key: orange\n"
     ]
    },
    {
     "name": "stdout",
     "output_type": "stream",
     "text": [
      "orange is not presence in {'apple': 30, 'date': 200}\n"
     ]
    }
   ],
   "source": [
    "\"\"\"\n",
    "Q52: How Do You Check the Presence of a Key in A Dictionary?\n",
    "\"\"\"\n",
    "my_dict = {\"apple\":30, \"date\":200}\n",
    "\n",
    "key = input(\"enter key:\")\n",
    "\n",
    "if key in my_dict:\n",
    "    print(f\"{key} is presence in {my_dict}\")\n",
    "else:\n",
    "    print(f\"{key} is not presence in {my_dict}\")"
   ]
  },
  {
   "cell_type": "code",
   "execution_count": 87,
   "id": "cdeea77b-3133-4425-b162-0e29b7b26679",
   "metadata": {},
   "outputs": [
    {
     "name": "stdout",
     "output_type": "stream",
     "text": [
      "{1: 'value1', 2: 'value2', 3: 'value3', 4: 'value4', 5: 'value5', 6: 'value6', 7: 'value7', 8: 'value8', 9: 'value9', 10: 'value10', 11: 'value11', 12: 'value12', 13: 'value13', 14: 'value14', 15: 'value15'}\n"
     ]
    }
   ],
   "source": [
    "\"\"\"\n",
    "Q53: Write a Python script to print a dictionary where the keys are\n",
    "numbers between 1 and 15.\n",
    "\"\"\"\n",
    "my_dict = {}\n",
    "val = 2\n",
    "for i in range(1,16):\n",
    "    my_dict[i] = f\"value{i}\"\n",
    "\n",
    "print(my_dict)\n",
    "    "
   ]
  },
  {
   "cell_type": "code",
   "execution_count": 95,
   "id": "732b770b-c2b3-4d5a-8b70-3b8786f2dc87",
   "metadata": {},
   "outputs": [
    {
     "name": "stdout",
     "output_type": "stream",
     "text": [
      "Not all keys exist in the dictionary.\n"
     ]
    }
   ],
   "source": [
    "\"\"\"\n",
    "Q54: Write a Python program to check multiple keys exists in a dictionary\n",
    "\"\"\"\n",
    "def check_keys_exist(dictionary, keys):\n",
    "    return all(key in dictionary for key in keys)\n",
    "\n",
    "# Example usage\n",
    "my_dict = {'name': 'python', 'age': 30, 'city': 'mumbai'}\n",
    "keys_to_check = ['name', 'age', \"p\"]\n",
    "\n",
    "if check_keys_exist(my_dict, keys_to_check):\n",
    "    print(\"All keys exist in the dictionary.\")\n",
    "else:\n",
    "    print(\"Not all keys exist in the dictionary.\")"
   ]
  },
  {
   "cell_type": "code",
   "execution_count": 91,
   "id": "59837d6c-719d-4716-9936-de8cc9a80fb8",
   "metadata": {},
   "outputs": [
    {
     "name": "stdout",
     "output_type": "stream",
     "text": [
      "new dictionary after merge two dictionaries\n",
      "\n",
      "{'name': 'python', 'age': 30, 'apple': 30, 'orange': 100}\n"
     ]
    }
   ],
   "source": [
    "\"\"\"\n",
    "Q55: Write a Python script to merge two Python dictionaries\n",
    "\"\"\"\n",
    "\n",
    "dictt1 = {\"name\":\"python\", \"age\":30}\n",
    "dictt2 = {\"apple\":30,\"orange\": 100}\n",
    "\n",
    "newdict = dictt1.copy()\n",
    "newdict.update(dictt2)\n",
    "\n",
    "print(\"new dictionary after merge two dictionaries\\n\")\n",
    "print(newdict)"
   ]
  },
  {
   "cell_type": "code",
   "execution_count": 99,
   "id": "a5cc7203-4a07-4b34-874f-d27189be33ae",
   "metadata": {},
   "outputs": [
    {
     "name": "stdout",
     "output_type": "stream",
     "text": [
      "new dict from two different list: {'a': 400, 'b': 400, 'd': 400, 'c': 300}\n"
     ]
    }
   ],
   "source": [
    "\"\"\"\n",
    "Q56: Write a Python program to map two lists into a dictionary\n",
    "Sample output: Counter ({'a': 400, 'b': 400,’d’: 400, 'c': 300}).\n",
    "\"\"\"\n",
    "list1 = ['a','b','d','c']\n",
    "list2 = [400,400,400,300]\n",
    "\n",
    "my_dict = {}\n",
    "\n",
    "for i in range(0, len(list1)):\n",
    "    my_dict[list1[i]]= list2[i]\n",
    "\n",
    "\n",
    "#my_dict= dict.fromkeys(list1,list2)\n",
    "print(f\"new dict from two different list: {my_dict}\")"
   ]
  },
  {
   "cell_type": "code",
   "execution_count": 117,
   "id": "fadfa3e2-3f5e-4250-acef-582dcee10c8b",
   "metadata": {},
   "outputs": [
    {
     "name": "stdout",
     "output_type": "stream",
     "text": [
      "The highest 3 values in a dictionary is\n",
      "\n",
      "[100, 40, 20]\n"
     ]
    }
   ],
   "source": [
    "\"\"\"\n",
    "Q57: Write a Python program to find the highest 3 values in a dictionary\n",
    "\"\"\"\n",
    "my_dict = {\"apple\":20, \"orange\":100, \"banana\": 10, \"chicoo\": 40}\n",
    "\n",
    "descending_dict = dict(sorted(my_dict.items(), key = lambda item:item[1], reverse= True))\n",
    "\n",
    "lst = list(descending_dict.values())\n",
    "print(\"The highest 3 values in a dictionary is\\n\")\n",
    "print(lst[:3])"
   ]
  },
  {
   "cell_type": "code",
   "execution_count": 50,
   "id": "541645b2-eb83-4673-8e0a-5ed8e3c4f51f",
   "metadata": {},
   "outputs": [
    {
     "name": "stdout",
     "output_type": "stream",
     "text": [
      "---------------Combine dict----------------------\n",
      "[{'item1': 1150, 'item2': 300}]\n"
     ]
    }
   ],
   "source": [
    "\"\"\"\n",
    "Q58: Write a Python program to combine values in python list of dictionaries.\n",
    "Sample data: [{'item': 'item1', 'amount': 400}, {'item': 'item2', 'amount':\n",
    "300}, o {'item': 'item1', 'amount': 750}]\n",
    "Expected Output:\n",
    "• Counter ({'item1': 1150, 'item2': 300})\n",
    "\"\"\"\n",
    "\n",
    "data_list = [{'item': 'item1', 'amount': 400}, {'item': 'item2', 'amount':300}, {'item': 'item1', 'amount': 750}]\n",
    "\n",
    "combine_list = []\n",
    "combine_dict = {}\n",
    "for dictt in data_list:\n",
    "    for key, val in dictt.items():\n",
    "        if val in combine_dict:\n",
    "            combine_dict[val] = combine_dict[val] + dictt[\"amount\"]\n",
    "        else:\n",
    "            combine_dict[val] =  dictt[\"amount\"]\n",
    "        break    \n",
    "combine_list.append(combine_dict)\n",
    "\n",
    "print(\"---------------Combine dict----------------------\")\n",
    "print(combine_list)\n",
    "        "
   ]
  },
  {
   "cell_type": "code",
   "execution_count": 121,
   "id": "b64d7c51-d19e-4a5a-934c-d050e37c1cc6",
   "metadata": {},
   "outputs": [
    {
     "name": "stdout",
     "output_type": "stream",
     "text": [
      "Dictionary from string: {'h': 1, 'e': 1, 'l': 3, 'o': 2, 'w': 1, 'r': 1, 'd': 1}\n"
     ]
    }
   ],
   "source": [
    "\"\"\"\n",
    "Q59: Write a Python program to create a dictionary from a string.\n",
    "Note: Track the count of the letters from the string.\n",
    "\"\"\"\n",
    "def create_dict_from_string(input_string):\n",
    "    letter_count = {}\n",
    "    for char in input_string:\n",
    "        if char.isalpha():  # Only consider alphabetic characters\n",
    "            char = char.lower()  # Convert to lowercase for case insensitivity\n",
    "            if char in letter_count:\n",
    "                letter_count[char] = letter_count[char] + 1\n",
    "            else:\n",
    "                letter_count[char] = 1\n",
    "    return letter_count\n",
    "\n",
    "# Example usage\n",
    "input_string = \"HeLlo World!\"\n",
    "result = create_dict_from_string(input_string)\n",
    "print(\"Dictionary from string:\", result)"
   ]
  },
  {
   "cell_type": "code",
   "execution_count": 56,
   "id": "6fd0bc32-c13c-43b6-820e-87d3755a639b",
   "metadata": {},
   "outputs": [
    {
     "name": "stdout",
     "output_type": "stream",
     "text": [
      "Dictionary from string: {'w': 1, '3': 1, 'r': 2, 'e': 2, 's': 1, 'o': 1, 'u': 1, 'c': 1}\n"
     ]
    }
   ],
   "source": [
    "\"\"\"\n",
    "Q60: Sample string:\n",
    "'w3resource' Expected output:\n",
    "• {'3': 1,’s’: 1, 'r': 2, 'u': 1, 'w': 1, 'c': 1, 'e': 2, 'o': 1}\n",
    "\"\"\"\n",
    "def create_dict_from_string(input_string):\n",
    "    letter_count = {}\n",
    "    for char in input_string:\n",
    "            if char in letter_count:\n",
    "                letter_count[char] = letter_count[char] + 1\n",
    "            else:\n",
    "                letter_count[char] = 1\n",
    "    return letter_count\n",
    "\n",
    "# Example usage\n",
    "input_string = \"w3resource\"\n",
    "result = create_dict_from_string(input_string)\n",
    "print(\"Dictionary from string:\", result)"
   ]
  },
  {
   "cell_type": "code",
   "execution_count": 125,
   "id": "7434dd96-8551-4e76-aa66-67d3119098f3",
   "metadata": {},
   "outputs": [
    {
     "name": "stdin",
     "output_type": "stream",
     "text": [
      "Enter number to find factorial: 6\n"
     ]
    },
    {
     "name": "stdout",
     "output_type": "stream",
     "text": [
      "factorial of 6 = 720\n"
     ]
    }
   ],
   "source": [
    "\"\"\"\n",
    "Q61: Write a Python function to calculate the factorial of a number (a\n",
    "nonnegative integer)\n",
    "\"\"\"\n",
    "\n",
    "def factorial_of_a_number(num):\n",
    "    val = 1\n",
    "    for i in range(1,num+1):\n",
    "        val = val * i\n",
    "\n",
    "    return val\n",
    "\n",
    "n = int(input(\"Enter positive number to find factorial:\"))\n",
    "result = factorial_of_a_number(n)\n",
    "print(f\"factorial of {n} = {result}\")"
   ]
  },
  {
   "cell_type": "code",
   "execution_count": 129,
   "id": "01a18296-51d4-4562-817f-39e14b553751",
   "metadata": {},
   "outputs": [
    {
     "name": "stdin",
     "output_type": "stream",
     "text": [
      "Enter number to check:  10\n",
      "Enter starting number:  100\n",
      "Enter ending number:  200\n"
     ]
    },
    {
     "name": "stdout",
     "output_type": "stream",
     "text": [
      "10 is between 100 - 200 = False\n"
     ]
    }
   ],
   "source": [
    "\"\"\"\n",
    "Q62: Write a Python function to check whether a number is in a given range\n",
    "\"\"\"\n",
    "\n",
    "def check_number_Inrange(number, start, end):\n",
    "    return start <= number <= end\n",
    "\n",
    "number = int(input(\"Enter number to check: \"))\n",
    "start = int(input(\"Enter starting number: \"))\n",
    "end = int(input(\"Enter ending number: \"))\n",
    "\n",
    "print(f\"{number} is between {start} - {end} = {check_number_Inrange(number, start, end)}\")"
   ]
  },
  {
   "cell_type": "code",
   "execution_count": 38,
   "id": "695041ed-44e5-401d-89e2-3896ae07f68b",
   "metadata": {},
   "outputs": [
    {
     "name": "stdin",
     "output_type": "stream",
     "text": [
      "enter number: 6\n"
     ]
    },
    {
     "name": "stdout",
     "output_type": "stream",
     "text": [
      "6 is perfect number\n"
     ]
    }
   ],
   "source": [
    "\"\"\"\n",
    "Q63: Write a Python function to check whether a number is perfect or not.\n",
    "\"\"\"\n",
    "# 6 and 28 is example of perfect number\n",
    "def number_is_perfect(num):\n",
    "    div = 0\n",
    "    for i in range(1, num):\n",
    "        if num % i == 0:\n",
    "            div += i\n",
    "    return div == num\n",
    "\n",
    "n = int(input(\"enter number:\"))\n",
    "\n",
    "if number_is_perfect(n):\n",
    "    print(f\"{n} is perfect number\")\n",
    "else:\n",
    "   print(f\"{n} is not a perfect number\") "
   ]
  },
  {
   "cell_type": "code",
   "execution_count": 133,
   "id": "09289ec1-7cb1-49e3-9395-10577f9f38d1",
   "metadata": {},
   "outputs": [
    {
     "name": "stdin",
     "output_type": "stream",
     "text": [
      "Enter a string:  awdwa\n"
     ]
    },
    {
     "name": "stdout",
     "output_type": "stream",
     "text": [
      "'awdwa' is a palindrome.\n"
     ]
    }
   ],
   "source": [
    "\"\"\"\n",
    "Q64: Write a Python function that checks whether a passed string is\n",
    "palindrome or not\n",
    "\"\"\"\n",
    "def string_is_palindrome(str):\n",
    "    return str == str[::-1]\n",
    "\n",
    "s = input(\"Enter a string: \")\n",
    "if string_is_palindrome(s):\n",
    "    print(f\"'{s}' is a palindrome.\")\n",
    "else:\n",
    "    print(f\"'{s}' is not a palindrome.\")"
   ]
  },
  {
   "cell_type": "code",
   "execution_count": null,
   "id": "f5b3b03d-9df6-4968-9d08-f4d7ef680150",
   "metadata": {},
   "outputs": [],
   "source": [
    "\"\"\"\n",
    "Q65: How Many Basic Types of Functions Are Available in Python?\n",
    "\"\"\"\n",
    "\"\"\"\n",
    "Ans: Python has main two types of function\n",
    "1) built in function - It is provided in python and python library.\n",
    "2) user defiend function - This types of function is not provided by system but instead it is created by user using \"def\" key word.\n",
    "3) lambda function - it is short anonymous functions.\n",
    "4) Recursive Functions: Functions that call themselves, is called recursive function.\n",
    "\"\"\""
   ]
  },
  {
   "cell_type": "code",
   "execution_count": 161,
   "id": "60adc8ae-41de-421d-8ae8-a57a7bd2e7a3",
   "metadata": {},
   "outputs": [
    {
     "name": "stdout",
     "output_type": "stream",
     "text": [
      "random item  from list is 2\n",
      "random item  from tuple is age\n"
     ]
    }
   ],
   "source": [
    "\"\"\"\n",
    "Q66: How can you pick a random item from a list or tuple?\n",
    "\"\"\"\n",
    "\"\"\" using random library we can pick random item from list or tuple \"\"\"\n",
    "\n",
    "import random\n",
    "\n",
    "my_list = [1,2,5,7,8]\n",
    "rand = random.choice(my_list)\n",
    "print(f\"random item  from list is {rand}\")\n",
    "\n",
    "my_tuple = (\"name\", \"age\", True)\n",
    "rand1 = random.choice(my_tuple)\n",
    "print(f\"random item  from tuple is {rand1}\")"
   ]
  },
  {
   "cell_type": "code",
   "execution_count": 169,
   "id": "8f77b3b9-2c77-4d9d-860a-3b2a3ee21300",
   "metadata": {},
   "outputs": [
    {
     "name": "stdout",
     "output_type": "stream",
     "text": [
      "71\n"
     ]
    }
   ],
   "source": [
    "\"\"\"\n",
    "Q67: How can you pick a random item from a range?\n",
    "\"\"\"\n",
    "import random\n",
    "\n",
    "r1 = random.randrange(0,100)\n",
    "print(r1)\n"
   ]
  },
  {
   "cell_type": "code",
   "execution_count": 1,
   "id": "70b85b88-1dca-4084-965f-b5e922169781",
   "metadata": {},
   "outputs": [
    {
     "name": "stdout",
     "output_type": "stream",
     "text": [
      "0.9492055127649957\n"
     ]
    }
   ],
   "source": [
    "\"\"\"\n",
    "Q68: How can you get a random number in python?\n",
    "\"\"\"\n",
    "import random\n",
    "\n",
    "print(random.random())"
   ]
  },
  {
   "cell_type": "code",
   "execution_count": 15,
   "id": "9e187f58-fec8-44d8-82a7-54f01a535331",
   "metadata": {},
   "outputs": [
    {
     "name": "stdin",
     "output_type": "stream",
     "text": [
      "Enter start number: 10\n",
      "Enter end number: 20\n"
     ]
    },
    {
     "name": "stdout",
     "output_type": "stream",
     "text": [
      "10\n"
     ]
    }
   ],
   "source": [
    "\"\"\"\n",
    "Q69:  How will you set the starting value in generating random numbers?\n",
    "\"\"\"\n",
    "import random\n",
    "\n",
    "snumber = int(input(\"Enter start number:\"))\n",
    "enumber = int(input(\"Enter end number:\"))\n",
    "\n",
    "print(random.randrange(snumber,enumber+1))"
   ]
  },
  {
   "cell_type": "code",
   "execution_count": 26,
   "id": "6c20356e-954a-4c56-a6cc-828047752387",
   "metadata": {},
   "outputs": [
    {
     "name": "stdout",
     "output_type": "stream",
     "text": [
      "Before shuffle list is: [1, 4, 6, 7, 1, 3, 4]\n",
      "After shuffle list is: [7, 3, 4, 4, 1, 1, 6]\n"
     ]
    }
   ],
   "source": [
    "\"\"\"\n",
    "Q70: How will you randomize the items of a list in place?\n",
    "\"\"\"\n",
    "import random\n",
    "\n",
    "my_list = [1,4,6,7,1,3,4]\n",
    "print(f\"Before shuffle list is: {my_list}\")\n",
    "random.shuffle(my_list)\n",
    "\n",
    "print(f\"After shuffle list is: {my_list}\")"
   ]
  },
  {
   "cell_type": "markdown",
   "id": "c4eb8bce-b18f-46da-afcd-3e36627dcc19",
   "metadata": {},
   "source": [
    "\"\"\"\n",
    "Q71: What is File function in python? What are keywords to create\n",
    "and write file.\n",
    "\"\"\"\n",
    "\"\"\"\n",
    "Ans: File functions in Python are used to perform operations like creating, reading, writing, and manipulating files.\n",
    "     Python provides built-in functions and methods for working with files through the open() function.\n",
    "\n",
    "     Keywords/Methods to Create and Write Files\n",
    "     1) open(): The primary function for handling files in Python. It opens a file and returns a file object.\n",
    "        Syntax: open(filename, mode)\n",
    "                filename: Name or path of the file to be opened.\n",
    "                mode: Specifies the mode for file handling. Common modes include:\n",
    "                        'w': Write mode. Creates a new file or overwrites an existing file.\n",
    "                        'a': Append mode. Adds data to the end of the file without deleting existing content.\n",
    "                        'x': Exclusive creation. Creates a new file and raises an error if the file exists.\n",
    "      2) Writing to a File\n",
    "         Use the write() or writelines() methods to write data to a file:\n",
    "                write(): Writes a string to the file.\n",
    "                writelines(): Writes a list of strings to the file.\n",
    "                Example: Creating and Writing to a File\n",
    "                # Create and write to a file\n",
    "                    file_name = \"example.txt\"\n",
    "\n",
    "                # Open file in write mode\n",
    "                    with open(file_name, 'w') as file:\n",
    "                        file.write(\"Hello, World!\\n\")\n",
    "                        file.write(\"This is a Python file example.\\n\")\n",
    "\n",
    "                    print(f\"Data written to {file_name}\")\n",
    "                   \n",
    "                # Open file in append mode\n",
    "                with open(file_name, 'a') as file:\n",
    "                    file.write(\"Appending new data to the file.\\n\")\n",
    "\n",
    "                print(f\"Data appended to {file_name}\")\n",
    "\n",
    "                File Keywords Summary\n",
    "                Keyword\tPurpose\n",
    "                'w'\tWrite. Creates or overwrites the file.\n",
    "                'a'\tAppend. Adds data to the file.\n",
    "                'x'\tExclusive creation. Errors if file exists.\n",
    "                'r'\tRead. Opens file for reading (default).\n",
    "\n",
    "\"\"\""
   ]
  },
  {
   "cell_type": "code",
   "execution_count": 7,
   "id": "4e8b9a4d-c31b-4ce5-9658-b662780514bb",
   "metadata": {},
   "outputs": [
    {
     "name": "stdout",
     "output_type": "stream",
     "text": [
      "File content is:\n",
      "Welcome to python file function\n",
      "File function is very easy to learn and understand\n",
      "\n"
     ]
    }
   ],
   "source": [
    "\"\"\"\n",
    "Q72: Write a Python program to read an entire text file.\n",
    "\"\"\"\n",
    "\n",
    "# write content to file first so we can read it\n",
    "file_name = \"my_file.txt\"\n",
    "\n",
    "with open(file_name, 'w') as file:\n",
    "    file.write(\"Welcome to python file function\\n\")\n",
    "    file.write(\"File function is very easy to learn and understand\\n\")\n",
    "\n",
    "# read content of above file\n",
    "def read_file(filename):\n",
    "    try:\n",
    "        with open(filename, 'r') as file:\n",
    "            content = file.read()\n",
    "        return content\n",
    "    except FileNotFoundError:\n",
    "        return f\"{filename} does not exist\"\n",
    "\n",
    "filecontent = read_file(file_name)\n",
    "print(f\"File content is:\\n{filecontent}\")"
   ]
  },
  {
   "cell_type": "code",
   "execution_count": 11,
   "id": "7db9fdf5-1ffb-4845-be66-731893b61790",
   "metadata": {},
   "outputs": [
    {
     "name": "stdout",
     "output_type": "stream",
     "text": [
      "File content before append text: \n",
      " Welcome to python file function\n",
      "File function is very easy to learn and understand\n",
      "\n",
      "File content after append text: \n",
      " Welcome to python file function\n",
      "File function is very easy to learn and understand\n",
      "Hello, how are you?\n"
     ]
    }
   ],
   "source": [
    "\"\"\"\n",
    "Q73: Write a Python program to append text to a file and display the text.\n",
    "\"\"\"\n",
    "\n",
    "def append_text_to_file(filename):\n",
    "    with open(filename, 'a') as file:\n",
    "        file.write(\"Hello, how are you?\")\n",
    "\n",
    "filecontent = read_file(file_name)\n",
    "print(f\"File content before append text: \\n {filecontent}\")\n",
    "\n",
    "append_text_to_file(file_name)\n",
    "filecontent = read_file(file_name)\n",
    "print(f\"File content after append text: \\n {filecontent}\")\n"
   ]
  },
  {
   "cell_type": "code",
   "execution_count": 25,
   "id": "21c6299e-2097-4b80-a7e4-fbef4a14a5b6",
   "metadata": {},
   "outputs": [
    {
     "name": "stdin",
     "output_type": "stream",
     "text": [
      "enter number of line you want to read: 2\n"
     ]
    },
    {
     "name": "stdout",
     "output_type": "stream",
     "text": [
      "File content is:\n",
      "['Welcome to python file function\\n', 'File function is very easy to learn and understand\\n']\n"
     ]
    }
   ],
   "source": [
    "\"\"\"\n",
    "Q74: Write a Python program to read first n lines of a file.\n",
    "\"\"\"\n",
    "\n",
    "# read first n number of line from file\n",
    "def read_file_line(filename,n):\n",
    "    try:\n",
    "        with open(filename, 'r') as file:\n",
    "            line = file.readlines()[:n] # read all line then get n number of line\n",
    "        return line\n",
    "    except FileNotFoundError:\n",
    "        return f\"{filename} does not exist\"\n",
    "\n",
    "n = int(input(\"enter number of line you want to read:\"))\n",
    "linecontent = read_file_line(file_name,n )\n",
    "print(f\"File content is:\\n{linecontent}\")"
   ]
  },
  {
   "cell_type": "code",
   "execution_count": 35,
   "id": "59d0b727-24f3-493b-a484-301b5058e852",
   "metadata": {},
   "outputs": [
    {
     "name": "stdin",
     "output_type": "stream",
     "text": [
      "enter number of line you want to read: 1\n"
     ]
    },
    {
     "name": "stdout",
     "output_type": "stream",
     "text": [
      "File content is:\n",
      "['Hello, how are you?']\n"
     ]
    }
   ],
   "source": [
    "\"\"\"\n",
    "Q75: Write a Python program to read last n lines of a file.\n",
    "\"\"\"\n",
    "# read last n number of line from file\n",
    "def read_file_line(filename,n):\n",
    "    try:\n",
    "        with open(filename, 'r') as file:\n",
    "            line = file.readlines()[-n:] # read all line then get last n number of line\n",
    "        return line\n",
    "    except FileNotFoundError:\n",
    "        return f\"{filename} does not exist\"\n",
    "\n",
    "n = int(input(\"enter number of line you want to read:\"))\n",
    "linecontent = read_file_line(file_name,n )\n",
    "print(f\"File content is:\\n{linecontent}\")"
   ]
  },
  {
   "cell_type": "code",
   "execution_count": 43,
   "id": "e420f285-1b6a-4293-9f52-4b3171704246",
   "metadata": {},
   "outputs": [
    {
     "name": "stdout",
     "output_type": "stream",
     "text": [
      "OutPut\n",
      "['Welcome to python file function', 'File function is very easy to learn and understand', 'Hello, how are you?']\n"
     ]
    }
   ],
   "source": [
    "\"\"\"\n",
    "Q76: Write a Python program to read a file line by line and store it into a list\n",
    "\"\"\"\n",
    "\n",
    "def read_file_line_save_in_list(filename):\n",
    "    try:\n",
    "        with open(filename, 'r') as file:\n",
    "            lines = file.readlines()\n",
    "        return [line.strip() for line in lines]\n",
    "    except FileNotFoundError:\n",
    "        return f\"{filename} not found\"\n",
    "\n",
    "print(\"OutPut\")\n",
    "lst = read_file_line_save_in_list(file_name)\n",
    "print(lst)\n",
    "            "
   ]
  },
  {
   "cell_type": "code",
   "execution_count": 45,
   "id": "4bc45ddb-15a7-4ad0-893a-7dc190b38b9f",
   "metadata": {},
   "outputs": [
    {
     "name": "stdout",
     "output_type": "stream",
     "text": [
      "Output\n",
      "file content save in variable is: \n",
      " Welcome to python file function\n",
      "File function is very easy to learn and understand\n",
      "Hello, how are you?\n"
     ]
    }
   ],
   "source": [
    "\"\"\"\n",
    "Q77: Write a Python program to read a file line by line store it into a variable.\n",
    "\"\"\"\n",
    "def read_file_into_variable(filename):\n",
    "    try:\n",
    "        with open(filename, 'r') as file:\n",
    "            content = \"\".join(line for line in file)\n",
    "        return content\n",
    "    except FileNotFoundError:\n",
    "        return f\"{filename} does not exists.\"\n",
    "\n",
    "\n",
    "print(\"Output\")\n",
    "cnt = read_file_into_variable(file_name)\n",
    "print(f\"file content save in variable is: \\n {cnt}\")"
   ]
  },
  {
   "cell_type": "code",
   "execution_count": 58,
   "id": "41d2adf3-f6ef-4225-8cad-6f0b7d5725d7",
   "metadata": {},
   "outputs": [
    {
     "name": "stdout",
     "output_type": "stream",
     "text": [
      "longest word(s) are: ['understand']\n"
     ]
    }
   ],
   "source": [
    "\"\"\"\n",
    "Q78: Write a python program to find the longest words.\n",
    "\"\"\"\n",
    "\n",
    "def longest_words_from_file(filename):\n",
    "    try:\n",
    "        with open(filename,'r') as file:\n",
    "            words = file.read().split()  # read file content and split will convert text into list from space between text\n",
    "        max_length = max(len(word) for word in words)\n",
    "\n",
    "        #find word which has max_length\n",
    "        longest_words = [word for word in words if len(word) == max_length]\n",
    "\n",
    "        return longest_words\n",
    "    except FileNotFoundError:\n",
    "        return f\"{filename} is not exist.\"\n",
    "    except ValueError:\n",
    "        return f\"{filename} is empty.\"\n",
    "\n",
    "\n",
    "longest_word = longest_words_from_file(file_name)\n",
    "\n",
    "if isinstance(longest_word, list):\n",
    "    print(f\"longest word(s) are: {longest_word}\")\n",
    "else:\n",
    "    print(longest_word)"
   ]
  },
  {
   "cell_type": "code",
   "execution_count": 52,
   "id": "a4c16789-d10e-46cb-a83c-8ffd3e5c67a2",
   "metadata": {},
   "outputs": [
    {
     "name": "stdout",
     "output_type": "stream",
     "text": [
      "my_file.txt contains 3 line(s).\n"
     ]
    }
   ],
   "source": [
    "\"\"\"\n",
    "Q79: Write a Python program to count the number of lines in a text file.\n",
    "\"\"\"\n",
    "\n",
    "def count_line_of_file(filename):\n",
    "    counter = 0\n",
    "    with open(filename, 'r') as file:\n",
    "        try:\n",
    "            for line in file:\n",
    "                counter += 1\n",
    "            return counter   \n",
    "        except FileNotFoundError:\n",
    "            return f\"{filename} does not exists\"\n",
    "\n",
    "number_of_line = count_line_of_file(file_name)\n",
    "print(f\"{file_name} contains {number_of_line} line(s).\")"
   ]
  },
  {
   "cell_type": "code",
   "execution_count": 54,
   "id": "2c95f7aa-9a87-4128-a247-d20c30081a1b",
   "metadata": {},
   "outputs": [
    {
     "name": "stdout",
     "output_type": "stream",
     "text": [
      "Welcome : 1\n",
      "to : 2\n",
      "python : 1\n",
      "file : 1\n",
      "function : 2\n",
      "File : 1\n",
      "is : 1\n",
      "very : 1\n",
      "easy : 1\n",
      "learn : 1\n",
      "and : 1\n",
      "understand : 1\n",
      "Hello, : 1\n",
      "how : 1\n",
      "are : 1\n",
      "you? : 1\n"
     ]
    }
   ],
   "source": [
    "\"\"\"\n",
    "Q80: Write a Python program to count the frequency of words in a file.\n",
    "\"\"\"\n",
    "\n",
    "from collections import Counter\n",
    "\n",
    "def count_words_of_file(filename):\n",
    "    try:\n",
    "        with open(filename, 'r') as file:\n",
    "            content = file.read()\n",
    "        \n",
    "        words = content.split()  # seperate word using white space.\n",
    "\n",
    "        return Counter(words)\n",
    "    except FileNotFoundError:\n",
    "        return f\"{filename} is not exists.\"\n",
    "\n",
    "\n",
    "words_count = count_words_of_file(file_name)\n",
    "\n",
    "if isinstance(words_count, Counter):\n",
    "    for word, count in words_count.items():\n",
    "        print(f\"{word} : {count}\")\n",
    "\n",
    "else :\n",
    "    print(words_count)\n",
    "        "
   ]
  },
  {
   "cell_type": "code",
   "execution_count": 64,
   "id": "bddc4ef2-6939-47bc-895b-30c40d1e062c",
   "metadata": {},
   "outputs": [
    {
     "name": "stdout",
     "output_type": "stream",
     "text": [
      "List written to listfile.txt sucessfully\n",
      "listfile.txt contents:\n",
      " Python\n",
      "SQL\n",
      "Power BI\n",
      "Tabula\n",
      "C++\n",
      "\n"
     ]
    }
   ],
   "source": [
    "\"\"\"\n",
    "Q81: Write a Python program to write a list to a file.\n",
    "\"\"\"\n",
    "def write_list_to_file(filename, items):\n",
    "    try:\n",
    "        with open(filename,'w') as file:\n",
    "            for item in items:\n",
    "                file.write(f\"{item}\\n\")  # write each item on new line of file\n",
    "            print(f\"List written to {filename} sucessfully\")    \n",
    "    except Exception as e:\n",
    "            print(f\"Error occured: {e}\")\n",
    "\n",
    "def read_list_file_content(filename):\n",
    "    try:\n",
    "        with open(filename, 'r') as file:\n",
    "            content = file.read()\n",
    "        return content\n",
    "    except FileNotFoundError:\n",
    "        return f\"{filename} does not exist.\"\n",
    "        \n",
    "my_list = [\"Python\", \"SQL\",\"Power BI\", \"Tabula\", \"C++\"]\n",
    "fname = \"listfile.txt\"\n",
    "\n",
    "#write list to file\n",
    "write_list_to_file(fname, my_list)\n",
    "\n",
    "#read file content\n",
    "filecontent = read_list_file_content(fname)\n",
    "print(f\"{fname} contents:\\n {filecontent}\")"
   ]
  },
  {
   "cell_type": "code",
   "execution_count": 66,
   "id": "b6b6660b-800e-4e4a-9e9e-bfea08e230e3",
   "metadata": {},
   "outputs": [
    {
     "name": "stdout",
     "output_type": "stream",
     "text": [
      "content written to Source_file.txt sucessfully\n",
      "contetn copied from Source_file.txt to Destination_file.txt\n",
      "Copied content is: \n",
      " Hello How are you?\n",
      " Welcome to Data Analyst.\n"
     ]
    }
   ],
   "source": [
    "\"\"\"\n",
    "Q82: Write a Python program to copy the contents of a file to another file.\n",
    "\"\"\"\n",
    "\n",
    "# create source file and write content in it\n",
    "def create_source_file(filename, content):\n",
    "    with open(filename,'w') as file:\n",
    "        file.write(content)\n",
    "\n",
    "    print(f\"content written to {filename} sucessfully\")\n",
    "\n",
    "# copy the content of source file to destination file\n",
    "def copy_content_of_file(sourcefile, destinationfile):\n",
    "    #open source file in read mode\n",
    "    try:\n",
    "        with open(sourcefile, 'r') as file:\n",
    "            content = file.read()\n",
    "\n",
    "        with open(destinationfile,'w') as file:\n",
    "            file.write(content)\n",
    "\n",
    "\n",
    "        print(f\"contetn copied from {sourcefile} to {destinationfile}\")\n",
    "    except FileNotFoundError:\n",
    "        print(f\"{sourcefile} does not exist.\")\n",
    "    except Exception as e:\n",
    "        print(f\"Error occured: {e}\")\n",
    "\n",
    "\n",
    "sname = \"Source_file.txt\"\n",
    "dname = \"Destination_file.txt\"\n",
    "\n",
    "create_source_file(sname, \"Hello How are you?\\n Welcome to Data Analyst.\")\n",
    "\n",
    "copy_content_of_file(sname, dname)\n",
    "\n",
    "# read content of destination file\n",
    "dcontent = read_list_file_content(dname)\n",
    "print(f\"Copied content is: \\n {dcontent}\")"
   ]
  },
  {
   "cell_type": "code",
   "execution_count": null,
   "id": "24c21193-3615-4d38-ab31-6fd9402c61b6",
   "metadata": {},
   "outputs": [],
   "source": [
    "\"\"\"\n",
    "Q83: Explain Exception handling? What is an Error in Python?\n",
    "\"\"\"\n",
    "\"\"\"\n",
    "Ans:\n",
    "Exception handling is a mechanism in Python to handle runtime errors gracefully, \n",
    "ensuring that the program doesn't crash unexpectedly. Instead of stopping execution, Python allows you to detect, catch, \n",
    "and manage errors to maintain a smooth flow.\n",
    "\n",
    "    Key Components of Exception Handling\n",
    "    try block:\n",
    "        Contains code that may raise an exception.\n",
    "    except block:\n",
    "        Contains code to handle exceptions raised in the try block.\n",
    "    else block (optional):\n",
    "        Executes if no exceptions occur in the try block.\n",
    "    finally block (optional):\n",
    "        Executes code regardless of whether an exception occurred or not, often used for cleanup.\n",
    "    Example of Exception Handling\n",
    "    \n",
    "    try:\n",
    "        num = int(input(\"Enter a number: \"))\n",
    "        result = 10 / num\n",
    "        print(f\"The result is {result}\")\n",
    "    except ZeroDivisionError:\n",
    "        print(\"You cannot divide by zero!\")\n",
    "    except ValueError:\n",
    "        print(\"Invalid input! Please enter a valid number.\")\n",
    "    else:\n",
    "        print(\"Operation successful!\")\n",
    "    finally:\n",
    "        print(\"Execution completed.\")\n",
    "\n",
    "Error in Python\n",
    "    An error is a problem in a program that prevents it from running as expected. Errors can be broadly classified into:\n",
    "\n",
    "    1)Syntax Errors:\n",
    "        Occur when the code violates Python's syntax rules.\n",
    "        Example:\n",
    "            if True    # Missing colon\n",
    "                print(\"Hello\")\n",
    "            Output: SyntaxError: expected ':'\n",
    "    2)Exceptions:\n",
    "        Occur during program execution (runtime).\n",
    "        These are errors detected during the program's runtime that disrupt its normal flow.\n",
    "        Common exceptions include:\n",
    "            1) ZeroDivisionError: Division by zero.\n",
    "            2) ValueError: Invalid type conversion (e.g., string to int).\n",
    "            3) FileNotFoundError: File does not exist.\n",
    "            4) KeyError: Accessing a non-existent dictionary key.\n",
    "\n",
    "\"\"\""
   ]
  },
  {
   "cell_type": "code",
   "execution_count": null,
   "id": "ad77a807-769f-4902-ab71-f4b337dde9bd",
   "metadata": {},
   "outputs": [],
   "source": [
    "\"\"\"\n",
    "Q84: How many except statements can a try-except block have? Name\n",
    "Some built-in exception classes:\n",
    "\"\"\"\n",
    "\"\"\"\n",
    "Ans:\n",
    "    A try-except block in Python can have multiple except statements, and there is no strict limit to the number of except blocks.\n",
    "    However, the design should remain clear and manageable for readability and debugging. Each except block can handle a specific type of exception.\n",
    "    \n",
    "    Built-in Exception Classes in Python:\n",
    "    Here are some common built-in exception classes:\n",
    "        1)Exception (base class for all exceptions)\n",
    "        2)ValueError (raised when a function receives an argument of the right type but inappropriate value)\n",
    "        3)TypeError (raised when an operation or function is applied to an object of an inappropriate type)\n",
    "        4)IndexError (raised when trying to access an index outside a sequence's range)\n",
    "        5)KeyError (raised when a dictionary key is not found)\n",
    "        6)NameError (raised when a variable is not found in the local or global scope)\n",
    "        7)ZeroDivisionError (raised when dividing by zero)\n",
    "        8)FileNotFoundError (raised when a file or directory is requested but does not exist)\n",
    "        9)IOError (raised when an I/O operation fails, now mostly replaced by OSError)\n",
    "        10)AttributeError (raised when an attribute reference or assignment fails)\n",
    "        11)ImportError (raised when an import statement fails)\n",
    "        12)StopIteration (raised to signal the end of an iterator)\n",
    "        13)RuntimeError (raised when an error doesn’t fall into any specific category)\n",
    "        14)OSError (base class for operating system-related errors)\n",
    "        15)MemoryError (raised when a program runs out of memory)\n",
    "        16)AssertionError (raised when an assert statement fails)\n",
    "\n",
    "\"\"\""
   ]
  },
  {
   "cell_type": "code",
   "execution_count": null,
   "id": "62a8b31b-d8e2-4867-b292-0412c5f8b1c1",
   "metadata": {},
   "outputs": [],
   "source": [
    "\"\"\"\n",
    "Q85: When will the else part of try-except-else be executed?\n",
    "\"\"\"\n",
    "\"\"\"\n",
    "Ans: if any error is not occured in try block then else part of try-except-else will be executed.\n",
    "if any error will occured in try block then except part of try-except-else will get executed.\n",
    "\n",
    "try:\n",
    "        num = int(input(\"Enter a number: \"))\n",
    "        result = 10 / num\n",
    "        print(f\"The result is {result}\")\n",
    "    except ZeroDivisionError:\n",
    "        print(\"You cannot divide by zero!\")\n",
    "    except ValueError:\n",
    "        print(\"Invalid input! Please enter a valid number.\")\n",
    "    else:\n",
    "        print(\"Operation successful!\")\n",
    "    finally:\n",
    "        print(\"Execution completed.\")\n",
    "\n",
    "   in the above code if user enter proper integer number except zero then else part will get executed.\n",
    "\"\"\""
   ]
  },
  {
   "cell_type": "code",
   "execution_count": null,
   "id": "7b9548b8-23dc-46e3-8418-61b4b197165e",
   "metadata": {},
   "outputs": [],
   "source": [
    "\"\"\"\n",
    "Q86: Can one block of except statements handle multiple exception?\n",
    "\"\"\"\n",
    "\"\"\"\n",
    "Ans:\n",
    "Yes, a single except block can handle multiple exceptions in Python. You can do this by specifying a tuple of exception classes in the except clause. \n",
    "If any of the exceptions listed in the tuple is raised, the corresponding block will execute.\n",
    "\n",
    "Example:\n",
    "    try:\n",
    "        # Code that may raise an exception\n",
    "        num = int(\"abc\")\n",
    "    except (ValueError, TypeError) as e:\n",
    "        print(f\"Caught an exception: {e}\")\n",
    "\n",
    "    In the example, if either TypeError or ValueError is raised, the block will handle it.\n",
    "    Note: Use a single except block for multiple exceptions when you want to handle them in the same way.\n",
    "          For distinct handling, use separate except blocks.\n",
    "\"\"\""
   ]
  },
  {
   "cell_type": "code",
   "execution_count": null,
   "id": "21c7796c-ec38-492c-a5ad-494f3c3fa689",
   "metadata": {},
   "outputs": [],
   "source": [
    "\"\"\"\n",
    "Q87: When is the finally block executed?\n",
    "\"\"\"\n",
    "\"\"\"\n",
    "Ans: \n",
    "    Finally block gets executed weather error in try block will occured or not.\n",
    "    and is commonly used for cleanup tasks.\n",
    "    example\n",
    "    \n",
    "        try:\n",
    "            num = int(input(\"Enter a number: \"))\n",
    "            result = 10 / num\n",
    "            print(f\"The result is {result}\")\n",
    "        except ZeroDivisionError:\n",
    "            print(\"You cannot divide by zero!\")\n",
    "        except ValueError:\n",
    "            print(\"Invalid input! Please enter a valid number.\")\n",
    "        else:\n",
    "            print(\"Operation successful!\")\n",
    "        finally:\n",
    "            print(\"Execution completed.\")\n",
    "    \n",
    "       in the above code if user enter proper integer number except zero then finally part will get executed.\n",
    "       if user enter zero or negative value in that case finally block will also get executed.\n",
    "\"\"\""
   ]
  },
  {
   "cell_type": "code",
   "execution_count": null,
   "id": "6e6115c4-921b-4f1c-9629-1dacf90dccdf",
   "metadata": {},
   "outputs": [],
   "source": [
    "\"\"\"\n",
    "Q88: What happens when „1‟== 1 is executed?\n",
    "\"\"\"\n",
    "\"\"\"\n",
    "Ans: \n",
    "    When the expression \"1\" == 1 is executed in Python, it evaluates to False. because of Data type mismatch.\n",
    "    \"1\" it is string, 1 is integer, so python return false.\n",
    "    if you want to compare it then you have to convert one data type in to other data type\n",
    "        ex. \"1\"==str(1) will return True. and int(\"1\")==1 will return True.\n",
    "\"\"\""
   ]
  },
  {
   "cell_type": "code",
   "execution_count": null,
   "id": "1a7f70c6-73c1-402a-acbe-d2a0ea1df7b8",
   "metadata": {},
   "outputs": [],
   "source": [
    "\"\"\"\n",
    "Q89: How Do You Handle Exceptions with Try/Except/Finally in Python?\n",
    "Explain with coding snippets.\n",
    "\"\"\"\n",
    "\"\"\"\n",
    "Ans:\n",
    "    try:\n",
    "        file = open(\"example.txt\", \"r\")\n",
    "        data = file.read()\n",
    "    except FileNotFoundError as e:\n",
    "        print(f\"File not found: {e}\")\n",
    "    else:\n",
    "        print(f\"File content: {data}\")\n",
    "    finally:\n",
    "        if 'file' in locals() and not file.closed:\n",
    "            file.close()\n",
    "            print(\"File closed\n",
    "            \n",
    "     if example.txt file is exist then it will execute else block , if file does not exist then FileNotFoundError will occur and executed except block.\n",
    "     finally block will executed in both case if error occured or not occured in try block, \n",
    "     finally block close the file(clean up task)\n",
    "\"\"\""
   ]
  },
  {
   "cell_type": "code",
   "execution_count": 7,
   "id": "14346a71-df8e-4680-ad49-319bc84fa387",
   "metadata": {},
   "outputs": [
    {
     "name": "stdin",
     "output_type": "stream",
     "text": [
      "Enter an odd number:  3\n"
     ]
    },
    {
     "name": "stdout",
     "output_type": "stream",
     "text": [
      "Thank you! You entered an odd number: 3\n"
     ]
    }
   ],
   "source": [
    "\"\"\"\n",
    "Q90: Write python program that user to enter only odd numbers, else\n",
    "will raise an exception.\n",
    "\"\"\"\n",
    "class NotOddNumberError(Exception):\n",
    "    \"\"\"Custom exception for non-odd numbers.\"\"\"\n",
    "    pass\n",
    "\n",
    "def number_is_odd():\n",
    "    try:\n",
    "        num = int(input(\"Enter an odd number: \"))\n",
    "        if num % 2 == 0:\n",
    "            raise NotOddNumberError(f\"The number {num} is not odd.\")\n",
    "        print(f\"Thank you! You entered an odd number: {num}\")\n",
    "    except ValueError:\n",
    "        print(\"Invalid input! Please enter a valid integer.\")\n",
    "    except NotOddNumberError as e:\n",
    "        print(e)\n",
    "\n",
    "# Run the function\n",
    "number_is_odd()\n"
   ]
  },
  {
   "cell_type": "code",
   "execution_count": null,
   "id": "30e772f1-aa62-4c3d-b658-4d233d652de6",
   "metadata": {},
   "outputs": [],
   "source": []
  }
 ],
 "metadata": {
  "kernelspec": {
   "display_name": "Python 3 (ipykernel)",
   "language": "python",
   "name": "python3"
  },
  "language_info": {
   "codemirror_mode": {
    "name": "ipython",
    "version": 3
   },
   "file_extension": ".py",
   "mimetype": "text/x-python",
   "name": "python",
   "nbconvert_exporter": "python",
   "pygments_lexer": "ipython3",
   "version": "3.12.4"
  }
 },
 "nbformat": 4,
 "nbformat_minor": 5
}
